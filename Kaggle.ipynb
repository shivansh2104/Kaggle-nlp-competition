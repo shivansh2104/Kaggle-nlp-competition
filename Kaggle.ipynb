{
 "cells": [
  {
   "cell_type": "code",
   "execution_count": 1,
   "id": "5429f1ed",
   "metadata": {},
   "outputs": [],
   "source": [
    "import pandas as pd\n",
    "import numpy as np\n",
    "import string\n",
    "import seaborn as sns\n",
    "import matplotlib.pyplot as plt"
   ]
  },
  {
   "cell_type": "code",
   "execution_count": 2,
   "id": "e1cc233c",
   "metadata": {},
   "outputs": [
    {
     "data": {
      "text/html": [
       "<div>\n",
       "<style scoped>\n",
       "    .dataframe tbody tr th:only-of-type {\n",
       "        vertical-align: middle;\n",
       "    }\n",
       "\n",
       "    .dataframe tbody tr th {\n",
       "        vertical-align: top;\n",
       "    }\n",
       "\n",
       "    .dataframe thead th {\n",
       "        text-align: right;\n",
       "    }\n",
       "</style>\n",
       "<table border=\"1\" class=\"dataframe\">\n",
       "  <thead>\n",
       "    <tr style=\"text-align: right;\">\n",
       "      <th></th>\n",
       "      <th>id</th>\n",
       "      <th>keyword</th>\n",
       "      <th>location</th>\n",
       "      <th>text</th>\n",
       "      <th>target</th>\n",
       "    </tr>\n",
       "  </thead>\n",
       "  <tbody>\n",
       "    <tr>\n",
       "      <th>0</th>\n",
       "      <td>1</td>\n",
       "      <td>NaN</td>\n",
       "      <td>NaN</td>\n",
       "      <td>Our Deeds are the Reason of this #earthquake M...</td>\n",
       "      <td>1</td>\n",
       "    </tr>\n",
       "    <tr>\n",
       "      <th>1</th>\n",
       "      <td>4</td>\n",
       "      <td>NaN</td>\n",
       "      <td>NaN</td>\n",
       "      <td>Forest fire near La Ronge Sask. Canada</td>\n",
       "      <td>1</td>\n",
       "    </tr>\n",
       "    <tr>\n",
       "      <th>2</th>\n",
       "      <td>5</td>\n",
       "      <td>NaN</td>\n",
       "      <td>NaN</td>\n",
       "      <td>All residents asked to 'shelter in place' are ...</td>\n",
       "      <td>1</td>\n",
       "    </tr>\n",
       "    <tr>\n",
       "      <th>3</th>\n",
       "      <td>6</td>\n",
       "      <td>NaN</td>\n",
       "      <td>NaN</td>\n",
       "      <td>13,000 people receive #wildfires evacuation or...</td>\n",
       "      <td>1</td>\n",
       "    </tr>\n",
       "    <tr>\n",
       "      <th>4</th>\n",
       "      <td>7</td>\n",
       "      <td>NaN</td>\n",
       "      <td>NaN</td>\n",
       "      <td>Just got sent this photo from Ruby #Alaska as ...</td>\n",
       "      <td>1</td>\n",
       "    </tr>\n",
       "    <tr>\n",
       "      <th>5</th>\n",
       "      <td>8</td>\n",
       "      <td>NaN</td>\n",
       "      <td>NaN</td>\n",
       "      <td>#RockyFire Update =&gt; California Hwy. 20 closed...</td>\n",
       "      <td>1</td>\n",
       "    </tr>\n",
       "    <tr>\n",
       "      <th>6</th>\n",
       "      <td>10</td>\n",
       "      <td>NaN</td>\n",
       "      <td>NaN</td>\n",
       "      <td>#flood #disaster Heavy rain causes flash flood...</td>\n",
       "      <td>1</td>\n",
       "    </tr>\n",
       "    <tr>\n",
       "      <th>7</th>\n",
       "      <td>13</td>\n",
       "      <td>NaN</td>\n",
       "      <td>NaN</td>\n",
       "      <td>I'm on top of the hill and I can see a fire in...</td>\n",
       "      <td>1</td>\n",
       "    </tr>\n",
       "    <tr>\n",
       "      <th>8</th>\n",
       "      <td>14</td>\n",
       "      <td>NaN</td>\n",
       "      <td>NaN</td>\n",
       "      <td>There's an emergency evacuation happening now ...</td>\n",
       "      <td>1</td>\n",
       "    </tr>\n",
       "    <tr>\n",
       "      <th>9</th>\n",
       "      <td>15</td>\n",
       "      <td>NaN</td>\n",
       "      <td>NaN</td>\n",
       "      <td>I'm afraid that the tornado is coming to our a...</td>\n",
       "      <td>1</td>\n",
       "    </tr>\n",
       "  </tbody>\n",
       "</table>\n",
       "</div>"
      ],
      "text/plain": [
       "   id keyword location                                               text  \\\n",
       "0   1     NaN      NaN  Our Deeds are the Reason of this #earthquake M...   \n",
       "1   4     NaN      NaN             Forest fire near La Ronge Sask. Canada   \n",
       "2   5     NaN      NaN  All residents asked to 'shelter in place' are ...   \n",
       "3   6     NaN      NaN  13,000 people receive #wildfires evacuation or...   \n",
       "4   7     NaN      NaN  Just got sent this photo from Ruby #Alaska as ...   \n",
       "5   8     NaN      NaN  #RockyFire Update => California Hwy. 20 closed...   \n",
       "6  10     NaN      NaN  #flood #disaster Heavy rain causes flash flood...   \n",
       "7  13     NaN      NaN  I'm on top of the hill and I can see a fire in...   \n",
       "8  14     NaN      NaN  There's an emergency evacuation happening now ...   \n",
       "9  15     NaN      NaN  I'm afraid that the tornado is coming to our a...   \n",
       "\n",
       "   target  \n",
       "0       1  \n",
       "1       1  \n",
       "2       1  \n",
       "3       1  \n",
       "4       1  \n",
       "5       1  \n",
       "6       1  \n",
       "7       1  \n",
       "8       1  \n",
       "9       1  "
      ]
     },
     "execution_count": 2,
     "metadata": {},
     "output_type": "execute_result"
    }
   ],
   "source": [
    "train = pd.read_csv('train.csv')\n",
    "train.head(10)"
   ]
  },
  {
   "cell_type": "code",
   "execution_count": 3,
   "id": "6b0c8cbb",
   "metadata": {},
   "outputs": [
    {
     "data": {
      "text/plain": [
       "(7613, 5)"
      ]
     },
     "execution_count": 3,
     "metadata": {},
     "output_type": "execute_result"
    }
   ],
   "source": [
    "train.shape"
   ]
  },
  {
   "cell_type": "code",
   "execution_count": 4,
   "id": "f39f2329",
   "metadata": {},
   "outputs": [
    {
     "data": {
      "text/plain": [
       "<bound method DataFrame.info of          id keyword location  \\\n",
       "0         1     NaN      NaN   \n",
       "1         4     NaN      NaN   \n",
       "2         5     NaN      NaN   \n",
       "3         6     NaN      NaN   \n",
       "4         7     NaN      NaN   \n",
       "...     ...     ...      ...   \n",
       "7608  10869     NaN      NaN   \n",
       "7609  10870     NaN      NaN   \n",
       "7610  10871     NaN      NaN   \n",
       "7611  10872     NaN      NaN   \n",
       "7612  10873     NaN      NaN   \n",
       "\n",
       "                                                   text  target  \n",
       "0     Our Deeds are the Reason of this #earthquake M...       1  \n",
       "1                Forest fire near La Ronge Sask. Canada       1  \n",
       "2     All residents asked to 'shelter in place' are ...       1  \n",
       "3     13,000 people receive #wildfires evacuation or...       1  \n",
       "4     Just got sent this photo from Ruby #Alaska as ...       1  \n",
       "...                                                 ...     ...  \n",
       "7608  Two giant cranes holding a bridge collapse int...       1  \n",
       "7609  @aria_ahrary @TheTawniest The out of control w...       1  \n",
       "7610  M1.94 [01:04 UTC]?5km S of Volcano Hawaii. htt...       1  \n",
       "7611  Police investigating after an e-bike collided ...       1  \n",
       "7612  The Latest: More Homes Razed by Northern Calif...       1  \n",
       "\n",
       "[7613 rows x 5 columns]>"
      ]
     },
     "execution_count": 4,
     "metadata": {},
     "output_type": "execute_result"
    }
   ],
   "source": [
    "train.info"
   ]
  },
  {
   "cell_type": "code",
   "execution_count": 5,
   "id": "48b49716",
   "metadata": {},
   "outputs": [
    {
     "name": "stderr",
     "output_type": "stream",
     "text": [
      "[nltk_data] Downloading package stopwords to\n",
      "[nltk_data]     C:\\Users\\hp\\AppData\\Roaming\\nltk_data...\n",
      "[nltk_data]   Package stopwords is already up-to-date!\n",
      "[nltk_data] Downloading package wordnet to\n",
      "[nltk_data]     C:\\Users\\hp\\AppData\\Roaming\\nltk_data...\n",
      "[nltk_data]   Package wordnet is already up-to-date!\n",
      "[nltk_data] Downloading package punkt to\n",
      "[nltk_data]     C:\\Users\\hp\\AppData\\Roaming\\nltk_data...\n",
      "[nltk_data]   Package punkt is already up-to-date!\n"
     ]
    }
   ],
   "source": [
    "import nltk\n",
    "nltk.download('stopwords')\n",
    "nltk.download('wordnet')\n",
    "nltk.download('punkt')\n",
    "from nltk.corpus import stopwords"
   ]
  },
  {
   "cell_type": "code",
   "execution_count": 6,
   "id": "7c1fe0ef",
   "metadata": {},
   "outputs": [
    {
     "name": "stderr",
     "output_type": "stream",
     "text": [
      "C:\\Users\\hp\\AppData\\Local\\Temp\\ipykernel_1388\\2446371197.py:12: FutureWarning: The default value of regex will change from True to False in a future version.\n",
      "  train[\"text\"] = train[\"text\"].str.replace(' +', ' ', case=False)\n"
     ]
    }
   ],
   "source": [
    "import re\n",
    "STOPWORDS = stopwords.words('english')\n",
    "STOPWORDS.append(\"rt\") #implying retweets\n",
    "train.text=train.text.astype(str)\n",
    "train.keyword=train.keyword.astype(str)\n",
    "def clean_text(train):\n",
    "    train[\"text\"] = train[\"text\"].apply(lambda x: x.lower())\n",
    "    train[\"text\"] = [re.sub('#', '', tweet) for tweet in train[\"text\"]]\n",
    "    train[\"text\"] = [re.sub('(@[^\\s]+)|(#[^\\s]+)', '', tweet) for tweet in train[\"text\"]]\n",
    "    train[\"text\"] = [re.sub('((www\\.[^\\s]+)|(https?://[^\\s]+))','',tweet) for tweet in train[\"text\"]]\n",
    "    train[\"text\"] = train[\"text\"].str.split(' ').apply(lambda tweet: ' '.join(k for k in tweet if k not in STOPWORDS))\n",
    "    train[\"text\"] = train[\"text\"].str.replace(' +', ' ', case=False)\n",
    "    train[\"text\"] = train[\"text\"].str.strip()\n",
    "    train[\"text\"].replace('', np.nan, inplace=True)\n",
    "    train.dropna(subset=[\"text\"], inplace=True)\n",
    "clean_text(train)"
   ]
  },
  {
   "cell_type": "code",
   "execution_count": 7,
   "id": "8f23f2cf",
   "metadata": {},
   "outputs": [
    {
     "data": {
      "text/plain": [
       "<bound method NDFrame.head of          id keyword location  \\\n",
       "0         1     nan      NaN   \n",
       "1         4     nan      NaN   \n",
       "2         5     nan      NaN   \n",
       "3         6     nan      NaN   \n",
       "4         7     nan      NaN   \n",
       "...     ...     ...      ...   \n",
       "7608  10869     nan      NaN   \n",
       "7609  10870     nan      NaN   \n",
       "7610  10871     nan      NaN   \n",
       "7611  10872     nan      NaN   \n",
       "7612  10873     nan      NaN   \n",
       "\n",
       "                                                   text  target  \n",
       "0          deeds reason earthquake may allah forgive us       1  \n",
       "1                forest fire near la ronge sask. canada       1  \n",
       "2     residents asked 'shelter place' notified offic...       1  \n",
       "3     13,000 people receive wildfires evacuation ord...       1  \n",
       "4     got sent photo ruby alaska smoke wildfires pou...       1  \n",
       "...                                                 ...     ...  \n",
       "7608  two giant cranes holding bridge collapse nearb...       1  \n",
       "7609  control wild fires california even northern pa...       1  \n",
       "7610              m1.94 [01:04 utc]?5km volcano hawaii.       1  \n",
       "7611  police investigating e-bike collided car littl...       1  \n",
       "7612  latest: homes razed northern california wildfi...       1  \n",
       "\n",
       "[7612 rows x 5 columns]>"
      ]
     },
     "execution_count": 7,
     "metadata": {},
     "output_type": "execute_result"
    }
   ],
   "source": [
    "train.head\n"
   ]
  },
  {
   "cell_type": "code",
   "execution_count": 8,
   "id": "973402f0",
   "metadata": {},
   "outputs": [],
   "source": [
    "from nltk.tokenize import sent_tokenize, word_tokenize\n",
    "from nltk.stem import LancasterStemmer\n",
    "from nltk.stem import WordNetLemmatizer"
   ]
  },
  {
   "cell_type": "code",
   "execution_count": 9,
   "id": "d2658a85",
   "metadata": {},
   "outputs": [
    {
     "name": "stderr",
     "output_type": "stream",
     "text": [
      "[nltk_data] Downloading package omw-1.4 to\n",
      "[nltk_data]     C:\\Users\\hp\\AppData\\Roaming\\nltk_data...\n",
      "[nltk_data]   Package omw-1.4 is already up-to-date!\n"
     ]
    },
    {
     "data": {
      "text/plain": [
       "<bound method NDFrame.head of          id keyword location  \\\n",
       "0         1     nan      NaN   \n",
       "1         4     nan      NaN   \n",
       "2         5     nan      NaN   \n",
       "3         6     nan      NaN   \n",
       "4         7     nan      NaN   \n",
       "...     ...     ...      ...   \n",
       "7608  10869     nan      NaN   \n",
       "7609  10870     nan      NaN   \n",
       "7610  10871     nan      NaN   \n",
       "7611  10872     nan      NaN   \n",
       "7612  10873     nan      NaN   \n",
       "\n",
       "                                                   text  target  \n",
       "0          deeds reason earthquake may allah forgive us       1  \n",
       "1                forest fire near la ronge sask. canada       1  \n",
       "2     residents asked 'shelter place' notified offic...       1  \n",
       "3     13,000 people receive wildfires evacuation ord...       1  \n",
       "4     got sent photo ruby alaska smoke wildfires pou...       1  \n",
       "...                                                 ...     ...  \n",
       "7608  two giant cranes holding bridge collapse nearb...       1  \n",
       "7609  control wild fires california even northern pa...       1  \n",
       "7610              m1.94 [01:04 utc]?5km volcano hawaii.       1  \n",
       "7611  police investigating e-bike collided car littl...       1  \n",
       "7612  latest: homes razed northern california wildfi...       1  \n",
       "\n",
       "[7612 rows x 5 columns]>"
      ]
     },
     "execution_count": 9,
     "metadata": {},
     "output_type": "execute_result"
    }
   ],
   "source": [
    "nltk.download('omw-1.4')\n",
    "def stemSentence(sentence):\n",
    "    lemmatizer = WordNetLemmatizer()\n",
    "    stemmer = LancasterStemmer()\n",
    "    words=word_tokenize(sentence)\n",
    "    stem_sentence=[]\n",
    "    for word in words:\n",
    "        stem_sentence.append(lemmatizer.lemmatize(word))\n",
    "        stem_sentence.append(\" \")\n",
    "    return \"\".join(stem_sentence)\n",
    "\n",
    "\n",
    "train.text.astype(str).apply(stemSentence)\n",
    "train.head"
   ]
  },
  {
   "cell_type": "code",
   "execution_count": 10,
   "id": "fea116c1",
   "metadata": {},
   "outputs": [
    {
     "name": "stdout",
     "output_type": "stream",
     "text": [
      "Total   tweet count: 7612\n",
      "disater  tweet count: 3271\n",
      "normal tweet count: 4341 \n",
      "\n",
      "Total tweet count in training sampple: 5328\n",
      "Total tweet count in test sample:     2284\n",
      "disater  tweet count in X_train: 2300\n",
      "normal tweet count in X_train: 3028\n",
      "disater  tweet count in X_test:  971\n",
      "normal tweet count in X_test:  1313\n"
     ]
    }
   ],
   "source": [
    "from sklearn.model_selection import train_test_split\n",
    "X = train[\"text\"]\n",
    "y = train[\"target\"]\n",
    "X_train, X_test, y_train, y_test = train_test_split(X, y, test_size=0.3, random_state = 42)\n",
    "\n",
    "print ('Total   tweet count:', len(train))\n",
    "print ('disater  tweet count:', len(train[train.target == 1]))\n",
    "print ('normal tweet count:', len(train[train.target == 0]), '\\n')\n",
    "print ('Total tweet count in training sampple:', len(X_train))\n",
    "print ('Total tweet count in test sample:    ', len(X_test))\n",
    "print ('disater  tweet count in X_train:', X_train[y_train == 1].count())\n",
    "print ('normal tweet count in X_train:', X_train[y_train == 0].count())\n",
    "print ('disater  tweet count in X_test: ', X_test[y_test == 1].count())\n",
    "print ('normal tweet count in X_test: ', X_test[y_test == 0].count())"
   ]
  },
  {
   "cell_type": "code",
   "execution_count": 11,
   "id": "d3f530e2",
   "metadata": {},
   "outputs": [
    {
     "name": "stdout",
     "output_type": "stream",
     "text": [
      "(5328, 12068)\n",
      "(2284, 12068)\n"
     ]
    }
   ],
   "source": [
    "from sklearn.feature_extraction.text import TfidfVectorizer,TfidfTransformer\n",
    "tfidftrans = TfidfVectorizer()\n",
    "X_train = tfidftrans.fit_transform(X_train)\n",
    "print(X_train.shape)\n",
    "X_test = tfidftrans.transform(X_test)\n",
    "print(X_test.shape)"
   ]
  },
  {
   "cell_type": "code",
   "execution_count": 12,
   "id": "1ed82b78",
   "metadata": {},
   "outputs": [],
   "source": [
    "def training(clf,x_train,Y_train):\n",
    "    clf.fit(x_train,Y_train)\n",
    "def predict(clf,X_test):\n",
    "    return clf.predict(X_test)\n",
    "dict={}"
   ]
  },
  {
   "cell_type": "code",
   "execution_count": 13,
   "id": "528983d8",
   "metadata": {},
   "outputs": [
    {
     "name": "stdout",
     "output_type": "stream",
     "text": [
      "0.8007880910683012\n",
      "              precision    recall  f1-score   support\n",
      "\n",
      "           0       0.80      0.87      0.83      1313\n",
      "           1       0.80      0.70      0.75       971\n",
      "\n",
      "    accuracy                           0.80      2284\n",
      "   macro avg       0.80      0.79      0.79      2284\n",
      "weighted avg       0.80      0.80      0.80      2284\n",
      "\n",
      "[[1145  168]\n",
      " [ 287  684]]\n"
     ]
    }
   ],
   "source": [
    "from sklearn.metrics import confusion_matrix,accuracy_score,roc_curve,classification_report\n",
    "from sklearn.naive_bayes import MultinomialNB\n",
    "mnb = MultinomialNB(alpha =0.2)\n",
    "training(mnb,X_train,y_train)\n",
    "pred = predict(mnb,X_test)\n",
    "print(accuracy_score(y_test,pred,normalize=True))\n",
    "print(classification_report(y_test, pred))\n",
    "print(confusion_matrix(y_test,pred))\n",
    "dict[mnb]=accuracy_score(y_test,pred,normalize=True)"
   ]
  },
  {
   "cell_type": "code",
   "execution_count": 14,
   "id": "f6f0d18c",
   "metadata": {},
   "outputs": [
    {
     "name": "stdout",
     "output_type": "stream",
     "text": [
      "k =  1\n",
      "0.5166374781085814\n",
      "              precision    recall  f1-score   support\n",
      "\n",
      "           0       0.80      0.21      0.34      1313\n",
      "           1       0.47      0.93      0.62       971\n",
      "\n",
      "    accuracy                           0.52      2284\n",
      "   macro avg       0.63      0.57      0.48      2284\n",
      "weighted avg       0.66      0.52      0.46      2284\n",
      "\n",
      "[[ 281 1032]\n",
      " [  72  899]]\n",
      "k =  2\n",
      "0.7316112084063048\n",
      "              precision    recall  f1-score   support\n",
      "\n",
      "           0       0.75      0.80      0.77      1313\n",
      "           1       0.70      0.64      0.67       971\n",
      "\n",
      "    accuracy                           0.73      2284\n",
      "   macro avg       0.73      0.72      0.72      2284\n",
      "weighted avg       0.73      0.73      0.73      2284\n",
      "\n",
      "[[1045  268]\n",
      " [ 345  626]]\n",
      "k =  3\n",
      "0.7044658493870403\n",
      "              precision    recall  f1-score   support\n",
      "\n",
      "           0       0.80      0.65      0.72      1313\n",
      "           1       0.62      0.78      0.69       971\n",
      "\n",
      "    accuracy                           0.70      2284\n",
      "   macro avg       0.71      0.71      0.70      2284\n",
      "weighted avg       0.72      0.70      0.71      2284\n",
      "\n",
      "[[855 458]\n",
      " [217 754]]\n",
      "k =  4\n",
      "0.7578809106830122\n",
      "              precision    recall  f1-score   support\n",
      "\n",
      "           0       0.76      0.84      0.80      1313\n",
      "           1       0.75      0.65      0.69       971\n",
      "\n",
      "    accuracy                           0.76      2284\n",
      "   macro avg       0.76      0.74      0.75      2284\n",
      "weighted avg       0.76      0.76      0.75      2284\n",
      "\n",
      "[[1101  212]\n",
      " [ 341  630]]\n"
     ]
    }
   ],
   "source": [
    "from sklearn.neighbors import KNeighborsClassifier\n",
    "for i in range(1,5):\n",
    "    knn = KNeighborsClassifier(n_neighbors=i)\n",
    "    training(knn,X_train,y_train)\n",
    "    pred = predict(knn,X_test)\n",
    "    print('k = ',i)\n",
    "    print(accuracy_score(y_test,pred,normalize=True))\n",
    "    print(classification_report(y_test, pred))\n",
    "    print(confusion_matrix(y_test,pred))\n",
    "    dict[knn,i]=accuracy_score(y_test,pred,normalize=True)"
   ]
  },
  {
   "cell_type": "code",
   "execution_count": 15,
   "id": "a0c998af",
   "metadata": {},
   "outputs": [
    {
     "name": "stdout",
     "output_type": "stream",
     "text": [
      "0.7162872154115587\n",
      "              precision    recall  f1-score   support\n",
      "\n",
      "           0       0.78      0.71      0.74      1313\n",
      "           1       0.65      0.73      0.69       971\n",
      "\n",
      "    accuracy                           0.72      2284\n",
      "   macro avg       0.71      0.72      0.71      2284\n",
      "weighted avg       0.72      0.72      0.72      2284\n",
      "\n",
      "[[926 387]\n",
      " [261 710]]\n"
     ]
    }
   ],
   "source": [
    "from sklearn.tree import DecisionTreeClassifier\n",
    "dt = DecisionTreeClassifier()\n",
    "training(dt,X_train,y_train)\n",
    "pred = predict(dt,X_test)\n",
    "print(accuracy_score(y_test,pred,normalize=True))\n",
    "print(classification_report(y_test, pred))\n",
    "print(confusion_matrix(y_test,pred))\n",
    "dict[dt]=accuracy_score(y_test,pred,normalize=True)"
   ]
  },
  {
   "cell_type": "code",
   "execution_count": 16,
   "id": "3b30c246",
   "metadata": {},
   "outputs": [
    {
     "name": "stdout",
     "output_type": "stream",
     "text": [
      "0.8099824868651488\n",
      "              precision    recall  f1-score   support\n",
      "\n",
      "           0       0.79      0.91      0.85      1313\n",
      "           1       0.84      0.68      0.75       971\n",
      "\n",
      "    accuracy                           0.81      2284\n",
      "   macro avg       0.82      0.79      0.80      2284\n",
      "weighted avg       0.81      0.81      0.81      2284\n",
      "\n",
      "[[1189  124]\n",
      " [ 310  661]]\n"
     ]
    }
   ],
   "source": [
    "from sklearn.linear_model import LogisticRegression\n",
    "lr = LogisticRegression(max_iter=10000)\n",
    "training(lr,X_train,y_train)\n",
    "pred = predict(lr,X_test)\n",
    "print(accuracy_score(y_test,pred,normalize=True))\n",
    "print(classification_report(y_test, pred))\n",
    "print(confusion_matrix(y_test,pred))\n",
    "dict[lr]=accuracy_score(y_test,pred,normalize=True)"
   ]
  },
  {
   "cell_type": "code",
   "execution_count": 17,
   "id": "d26ee43a",
   "metadata": {},
   "outputs": [
    {
     "name": "stdout",
     "output_type": "stream",
     "text": [
      "0.8099824868651488\n",
      "LogisticRegression(max_iter=10000)\n"
     ]
    }
   ],
   "source": [
    "n=max(dict.values())\n",
    "print(n)\n",
    "for name,predicted in dict.items():\n",
    "    if predicted==n:\n",
    "        print(name)\n",
    "        model=name"
   ]
  },
  {
   "cell_type": "code",
   "execution_count": 18,
   "id": "595c4e95",
   "metadata": {},
   "outputs": [
    {
     "name": "stderr",
     "output_type": "stream",
     "text": [
      "C:\\Users\\hp\\AppData\\Local\\Programs\\Python\\Python310\\lib\\site-packages\\numpy\\lib\\stride_tricks.py:341: VisibleDeprecationWarning: Creating an ndarray from ragged nested sequences (which is a list-or-tuple of lists-or-tuples-or ndarrays with different lengths or shapes) is deprecated. If you meant to do this, you must specify 'dtype=object' when creating the ndarray.\n",
      "  array = np.array(array, copy=False, subok=subok)\n"
     ]
    },
    {
     "data": {
      "image/png": "[encoded data removed]",
      "text/plain": [
       "<Figure size 432x288 with 1 Axes>"
      ]
     },
     "metadata": {
      "needs_background": "light"
     },
     "output_type": "display_data"
    }
   ],
   "source": [
    "import matplotlib.pyplot as plt\n",
    "names = list(dict.keys())\n",
    "values = list(dict.values())\n",
    "plt.barh(range(len(dict)), values, tick_label=names)\n",
    "plt.show()"
   ]
  },
  {
   "cell_type": "code",
   "execution_count": 19,
   "id": "8e5f7aa4",
   "metadata": {},
   "outputs": [],
   "source": [
    "test= pd.read_csv('test.csv')"
   ]
  },
  {
   "cell_type": "code",
   "execution_count": 20,
   "id": "8856f4d1",
   "metadata": {},
   "outputs": [
    {
     "name": "stderr",
     "output_type": "stream",
     "text": [
      "C:\\Users\\hp\\AppData\\Local\\Temp\\ipykernel_1388\\2446371197.py:12: FutureWarning: The default value of regex will change from True to False in a future version.\n",
      "  train[\"text\"] = train[\"text\"].str.replace(' +', ' ', case=False)\n"
     ]
    }
   ],
   "source": [
    "clean_text(test)\n",
    "test.text.astype(str).apply(stemSentence)\n",
    "pred_text=test[\"text\"]\n",
    "pred_text=tfidftrans.transform(pred_text)\n"
   ]
  },
  {
   "cell_type": "code",
   "execution_count": 21,
   "id": "85ea466e",
   "metadata": {},
   "outputs": [
    {
     "data": {
      "text/plain": [
       "array([1, 1, 1, ..., 1, 1, 1], dtype=int64)"
      ]
     },
     "execution_count": 21,
     "metadata": {},
     "output_type": "execute_result"
    }
   ],
   "source": [
    "pred=lr.predict(pred_text)\n",
    "pred"
   ]
  },
  {
   "cell_type": "code",
   "execution_count": 27,
   "id": "66268944",
   "metadata": {},
   "outputs": [
    {
     "data": {
      "text/html": [
       "<div>\n",
       "<style scoped>\n",
       "    .dataframe tbody tr th:only-of-type {\n",
       "        vertical-align: middle;\n",
       "    }\n",
       "\n",
       "    .dataframe tbody tr th {\n",
       "        vertical-align: top;\n",
       "    }\n",
       "\n",
       "    .dataframe thead th {\n",
       "        text-align: right;\n",
       "    }\n",
       "</style>\n",
       "<table border=\"1\" class=\"dataframe\">\n",
       "  <thead>\n",
       "    <tr style=\"text-align: right;\">\n",
       "      <th></th>\n",
       "      <th>id</th>\n",
       "      <th>target</th>\n",
       "    </tr>\n",
       "  </thead>\n",
       "  <tbody>\n",
       "    <tr>\n",
       "      <th>0</th>\n",
       "      <td>0</td>\n",
       "      <td>0</td>\n",
       "    </tr>\n",
       "    <tr>\n",
       "      <th>1</th>\n",
       "      <td>2</td>\n",
       "      <td>0</td>\n",
       "    </tr>\n",
       "    <tr>\n",
       "      <th>2</th>\n",
       "      <td>3</td>\n",
       "      <td>0</td>\n",
       "    </tr>\n",
       "    <tr>\n",
       "      <th>3</th>\n",
       "      <td>9</td>\n",
       "      <td>0</td>\n",
       "    </tr>\n",
       "    <tr>\n",
       "      <th>4</th>\n",
       "      <td>11</td>\n",
       "      <td>0</td>\n",
       "    </tr>\n",
       "    <tr>\n",
       "      <th>...</th>\n",
       "      <td>...</td>\n",
       "      <td>...</td>\n",
       "    </tr>\n",
       "    <tr>\n",
       "      <th>3258</th>\n",
       "      <td>10861</td>\n",
       "      <td>0</td>\n",
       "    </tr>\n",
       "    <tr>\n",
       "      <th>3259</th>\n",
       "      <td>10865</td>\n",
       "      <td>0</td>\n",
       "    </tr>\n",
       "    <tr>\n",
       "      <th>3260</th>\n",
       "      <td>10868</td>\n",
       "      <td>0</td>\n",
       "    </tr>\n",
       "    <tr>\n",
       "      <th>3261</th>\n",
       "      <td>10874</td>\n",
       "      <td>0</td>\n",
       "    </tr>\n",
       "    <tr>\n",
       "      <th>3262</th>\n",
       "      <td>10875</td>\n",
       "      <td>0</td>\n",
       "    </tr>\n",
       "  </tbody>\n",
       "</table>\n",
       "<p>3263 rows × 2 columns</p>\n",
       "</div>"
      ],
      "text/plain": [
       "         id  target\n",
       "0         0       0\n",
       "1         2       0\n",
       "2         3       0\n",
       "3         9       0\n",
       "4        11       0\n",
       "...     ...     ...\n",
       "3258  10861       0\n",
       "3259  10865       0\n",
       "3260  10868       0\n",
       "3261  10874       0\n",
       "3262  10875       0\n",
       "\n",
       "[3263 rows x 2 columns]"
      ]
     },
     "execution_count": 27,
     "metadata": {},
     "output_type": "execute_result"
    }
   ],
   "source": [
    "submission= pd.read_csv('sample_submission.csv')\n",
    "submission"
   ]
  },
  {
   "cell_type": "code",
   "execution_count": 28,
   "id": "0465b620",
   "metadata": {},
   "outputs": [],
   "source": [
    "submission[\"id\"]=test[\"id\"]"
   ]
  },
  {
   "cell_type": "code",
   "execution_count": 29,
   "id": "f4f71da2",
   "metadata": {},
   "outputs": [],
   "source": [
    "submission[\"target\"]=pred"
   ]
  },
  {
   "cell_type": "code",
   "execution_count": 30,
   "id": "80cdb51e",
   "metadata": {},
   "outputs": [
    {
     "data": {
      "text/html": [
       "<div>\n",
       "<style scoped>\n",
       "    .dataframe tbody tr th:only-of-type {\n",
       "        vertical-align: middle;\n",
       "    }\n",
       "\n",
       "    .dataframe tbody tr th {\n",
       "        vertical-align: top;\n",
       "    }\n",
       "\n",
       "    .dataframe thead th {\n",
       "        text-align: right;\n",
       "    }\n",
       "</style>\n",
       "<table border=\"1\" class=\"dataframe\">\n",
       "  <thead>\n",
       "    <tr style=\"text-align: right;\">\n",
       "      <th></th>\n",
       "      <th>id</th>\n",
       "      <th>target</th>\n",
       "    </tr>\n",
       "  </thead>\n",
       "  <tbody>\n",
       "    <tr>\n",
       "      <th>0</th>\n",
       "      <td>0</td>\n",
       "      <td>1</td>\n",
       "    </tr>\n",
       "    <tr>\n",
       "      <th>1</th>\n",
       "      <td>2</td>\n",
       "      <td>1</td>\n",
       "    </tr>\n",
       "    <tr>\n",
       "      <th>2</th>\n",
       "      <td>3</td>\n",
       "      <td>1</td>\n",
       "    </tr>\n",
       "    <tr>\n",
       "      <th>3</th>\n",
       "      <td>9</td>\n",
       "      <td>0</td>\n",
       "    </tr>\n",
       "    <tr>\n",
       "      <th>4</th>\n",
       "      <td>11</td>\n",
       "      <td>1</td>\n",
       "    </tr>\n",
       "    <tr>\n",
       "      <th>...</th>\n",
       "      <td>...</td>\n",
       "      <td>...</td>\n",
       "    </tr>\n",
       "    <tr>\n",
       "      <th>3258</th>\n",
       "      <td>10861</td>\n",
       "      <td>1</td>\n",
       "    </tr>\n",
       "    <tr>\n",
       "      <th>3259</th>\n",
       "      <td>10865</td>\n",
       "      <td>1</td>\n",
       "    </tr>\n",
       "    <tr>\n",
       "      <th>3260</th>\n",
       "      <td>10868</td>\n",
       "      <td>1</td>\n",
       "    </tr>\n",
       "    <tr>\n",
       "      <th>3261</th>\n",
       "      <td>10874</td>\n",
       "      <td>1</td>\n",
       "    </tr>\n",
       "    <tr>\n",
       "      <th>3262</th>\n",
       "      <td>10875</td>\n",
       "      <td>1</td>\n",
       "    </tr>\n",
       "  </tbody>\n",
       "</table>\n",
       "<p>3263 rows × 2 columns</p>\n",
       "</div>"
      ],
      "text/plain": [
       "         id  target\n",
       "0         0       1\n",
       "1         2       1\n",
       "2         3       1\n",
       "3         9       0\n",
       "4        11       1\n",
       "...     ...     ...\n",
       "3258  10861       1\n",
       "3259  10865       1\n",
       "3260  10868       1\n",
       "3261  10874       1\n",
       "3262  10875       1\n",
       "\n",
       "[3263 rows x 2 columns]"
      ]
     },
     "execution_count": 30,
     "metadata": {},
     "output_type": "execute_result"
    }
   ],
   "source": [
    "submission"
   ]
  },
  {
   "cell_type": "code",
   "execution_count": 31,
   "id": "d02e7f0b",
   "metadata": {},
   "outputs": [],
   "source": [
    "submission.to_csv(\"submission.csv\",index=False)"
   ]
  },
  {
   "cell_type": "code",
   "execution_count": null,
   "id": "f9bc5011",
   "metadata": {},
   "outputs": [],
   "source": []
  }
 ],
 "metadata": {
  "kernelspec": {
   "display_name": "Python 3 (ipykernel)",
   "language": "python",
   "name": "python3"
  },
  "language_info": {
   "codemirror_mode": {
    "name": "ipython",
    "version": 3
   },
   "file_extension": ".py",
   "mimetype": "text/x-python",
   "name": "python",
   "nbconvert_exporter": "python",
   "pygments_lexer": "ipython3",
   "version": "3.10.2"
  }
 },
 "nbformat": 4,
 "nbformat_minor": 5
}
